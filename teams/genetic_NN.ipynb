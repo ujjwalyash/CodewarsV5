{
 "cells": [
  {
   "cell_type": "code",
   "execution_count": 1,
   "metadata": {},
   "outputs": [],
   "source": [
    "import numpy as np"
   ]
  },
  {
   "cell_type": "code",
   "execution_count": null,
   "metadata": {},
   "outputs": [],
   "source": [
    "def sigmoid_activate(layer): #Sigmoid function\n",
    "    return 1/(1+np.exp(-layer))\n",
    "\n",
    "\n",
    "def softmax_activate(layer): #Softmax function\n",
    "    m = np.exp(layer)\n",
    "    return m/np.sum(m)"
   ]
  },
  {
   "cell_type": "code",
   "execution_count": 48,
   "metadata": {},
   "outputs": [],
   "source": [
    "class NeuralNetwork():\n",
    "    def __init__(self):\n",
    "        self._layers = []\n",
    "        self._biases = []\n",
    "        self._outputs = np.random.rand(4,10)\n",
    "\n",
    "        input_size = 3\n",
    "        neurons=10 #remove later\n",
    "\n",
    "        #making layers\n",
    "        self._layers.append(np.random.rand(neurons ,input_size)) #we initialize random values\n",
    "        self._biases.append(np.random.rand(neurons, 1)) #we initialize random values.\n",
    "\n",
    "        self._layers.append(np.random.rand(neurons ,neurons)) #we initialize random values\n",
    "        self._biases.append(np.random.rand(neurons, 1)) #we initialize random values.\n",
    "\n",
    "        self._layers.append(np.random.rand(neurons ,neurons)) #we initialize random values\n",
    "        self._biases.append(np.random.rand(neurons, 1)) #we initialize random values.\n",
    "    \n",
    "\n",
    "    def forward(self, inputs):\n",
    "        # inputs = inputs.reshape((-1,1))\n",
    "        \n",
    "        for layer, bias in zip(self._layers, self._biases): #we zip the biases to the layer\n",
    "            inputs = np.matmul(layer,inputs)\n",
    "            inputs = inputs+bias\n",
    "            inputs = sigmoid_activate(inputs)\n",
    "        \n",
    "        output_layer = np.matmul(self._outputs, inputs)\n",
    "        #Does not take into account the different size of the matrix.\n",
    "        #We will fix it soon!\n",
    "        \n",
    "        return softmax_activate(output_layer)#Updated to softmax\n",
    "        \n",
    "\n",
    "    def mutate(self):\n",
    "        pass"
   ]
  },
  {
   "cell_type": "code",
   "execution_count": null,
   "metadata": {},
   "outputs": [],
   "source": [
    " "
   ]
  },
  {
   "cell_type": "code",
   "execution_count": 57,
   "metadata": {},
   "outputs": [
    {
     "name": "stdout",
     "output_type": "stream",
     "text": [
      "layer [[5.13522704]\n",
      " [4.47956579]\n",
      " [5.3521004 ]\n",
      " [5.51955664]]\n",
      "m [[169.9028911 ]\n",
      " [ 88.19636853]\n",
      " [211.05112376]\n",
      " [249.52438248]]\n",
      "m sum 718.6747658580239\n",
      "[[0.23641138]\n",
      " [0.12272084]\n",
      " [0.29366709]\n",
      " [0.3472007 ]]\n"
     ]
    }
   ],
   "source": [
    "a = [[0],[0],[0]]\n",
    "b = [[0,0,0],[4,5,6],[7,8,9]]\n",
    "\n",
    "NN = NeuralNetwork()\n",
    "print(NN.forward(a))"
   ]
  }
 ],
 "metadata": {
  "kernelspec": {
   "display_name": "Python 3",
   "language": "python",
   "name": "python3"
  },
  "language_info": {
   "codemirror_mode": {
    "name": "ipython",
    "version": 3
   },
   "file_extension": ".py",
   "mimetype": "text/x-python",
   "name": "python",
   "nbconvert_exporter": "python",
   "pygments_lexer": "ipython3",
   "version": "3.12.7"
  }
 },
 "nbformat": 4,
 "nbformat_minor": 2
}
